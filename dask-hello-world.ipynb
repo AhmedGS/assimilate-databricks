{
 "cells": [
  {
   "cell_type": "code",
   "execution_count": 1,
   "metadata": {},
   "outputs": [],
   "source": [
    "import dask.dataframe as dd\n",
    "from dask.distributed import Client"
   ]
  },
  {
   "cell_type": "code",
   "execution_count": 2,
   "metadata": {},
   "outputs": [
    {
     "name": "stderr",
     "output_type": "stream",
     "text": [
      "2022-09-14 14:33:31,275 - distributed.diskutils - INFO - Found stale lock file and directory '/tmp/dask-worker-space/worker-0bvbay16', purging\n",
      "2022-09-14 14:33:31,275 - distributed.diskutils - INFO - Found stale lock file and directory '/tmp/dask-worker-space/worker-kwv3guf5', purging\n",
      "2022-09-14 14:33:31,276 - distributed.diskutils - INFO - Found stale lock file and directory '/tmp/dask-worker-space/worker-6h0q6qli', purging\n",
      "2022-09-14 14:33:31,276 - distributed.diskutils - INFO - Found stale lock file and directory '/tmp/dask-worker-space/worker-qgmebza4', purging\n"
     ]
    }
   ],
   "source": [
    "client = Client()"
   ]
  },
  {
   "cell_type": "code",
   "execution_count": 3,
   "metadata": {},
   "outputs": [],
   "source": [
    "ddf = dd.read_parquet(\n",
    "    \"s3://dask-data/nyc-taxi/nyc-2015.parquet/part.*.parquet\",\n",
    "    columns=[\"passenger_count\", \"tip_amount\"],\n",
    "    storage_options={\"anon\": True},\n",
    ")"
   ]
  },
  {
   "cell_type": "code",
   "execution_count": 4,
   "metadata": {},
   "outputs": [
    {
     "data": {
      "text/plain": [
       "passenger_count\n",
       "0    1.590343\n",
       "1    1.752130\n",
       "2    1.705595\n",
       "3    1.579748\n",
       "4    1.459269\n",
       "5    1.728534\n",
       "6    1.680769\n",
       "7    3.863473\n",
       "8    5.060718\n",
       "9    5.075917\n",
       "Name: tip_amount, dtype: float64"
      ]
     },
     "execution_count": 4,
     "metadata": {},
     "output_type": "execute_result"
    }
   ],
   "source": [
    "\n",
    "result = ddf.groupby(\"passenger_count\").tip_amount.mean().compute()\n",
    "result"
   ]
  },
  {
   "cell_type": "code",
   "execution_count": null,
   "metadata": {},
   "outputs": [],
   "source": []
  }
 ],
 "metadata": {
  "kernelspec": {
   "display_name": "Python 3 (ipykernel)",
   "language": "python",
   "name": "python3"
  },
  "language_info": {
   "codemirror_mode": {
    "name": "ipython",
    "version": 3
   },
   "file_extension": ".py",
   "mimetype": "text/x-python",
   "name": "python",
   "nbconvert_exporter": "python",
   "pygments_lexer": "ipython3",
   "version": "3.10.6"
  },
  "orig_nbformat": 4,
  "vscode": {
   "interpreter": {
    "hash": "949777d72b0d2535278d3dc13498b2535136f6dfe0678499012e853ee9abcab1"
   }
  }
 },
 "nbformat": 4,
 "nbformat_minor": 2
}
